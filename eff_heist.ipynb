{
 "cells": [
  {
   "cell_type": "code",
   "execution_count": 1,
   "source": [
    "import numpy as np\n",
    "import pandas as pd\n",
    "import matplotlib.pyplot as plt\n",
    "import seaborn as sns\n",
    "import math\n",
    "import sys\n",
    "from sklearn.neighbors import NearestNeighbors"
   ],
   "outputs": [],
   "metadata": {}
  },
  {
   "cell_type": "code",
   "execution_count": null,
   "source": [
    "# function to calculate the distance between two points\n",
    "def distance(x1, y1, x2, y2):\n",
    "    return math.hypot(x2 - x1, y2 - y1)\n",
    "\n",
    "# function to calculate the value factor of a bank: money/(rob time + travel time), return both the time spent at this back (including travel time) and the value_factor of this back\n",
    "def value_factor(money, time, distance):\n",
    "    ttime = time + distance/30\n",
    "    value = money/ttime\n",
    "    return (ttime, value)"
   ],
   "outputs": [],
   "metadata": {}
  },
  {
   "cell_type": "code",
   "execution_count": null,
   "source": [
    "def robber_algorithm(df):\n",
    "    # Create a list of all banks' coordinates (x,y)\n",
    "    points = list(zip(df['x_coordinate'],df['y_coordinate']))\n",
    "    # Create a knn model to fit all the points\n",
    "    knn = NearestNeighbors(n_neighbors = 500).fit(points)\n",
    "\n",
    "    prev = (0,0) # start from the helicopter zone (0,0) and go backwards\n",
    "    path = [] # Create an empty list for the travel path\n",
    "    time_left = 24 # The time limit\n",
    "\n",
    "    while True:\n",
    "        values = [] # An empty list to store the values\n",
    "        time_spent = [] # An empty list to store the time needed to rob this bank including travel time\n",
    "        # The k closest neighbors for the current point\n",
    "        nbrs = knn.kneighbors([prev], return_distance = False)[0]\n",
    "        for row in nbrs:\n",
    "            if row not in path:\n",
    "                # calculate the distance between this point and its closest neighbor\n",
    "                x1, y1 = points[row]\n",
    "                x2, y2 = prev\n",
    "                dist = distance(x1, y1, x2, y2)\n",
    "                # calculate the value_factor of each of the neighbors\n",
    "                ttime, value = value_factor(df.iloc[row]['money'], df.iloc[row]['time (hr)'], dist)\n",
    "                values.append(value)\n",
    "                time_spent.append(ttime)\n",
    "            else:\n",
    "                values.append(0)\n",
    "                time_spent.append(0)\n",
    "        \n",
    "        # pick the bank with the highest value factor\n",
    "        ind = values.index(max(values))\n",
    "        step=nbrs[ind]\n",
    "        # if there is still time left to rob this bank, add it to the path, otherwise, stop here\n",
    "        if time_left - time_spent[ind] >=0:\n",
    "            path.append(step)\n",
    "            time_left -= time_spent[ind]\n",
    "            prev = points[step]\n",
    "        else:\n",
    "            break\n",
    "    \n",
    "    my_path = path[::-1]\n",
    "    return my_path"
   ],
   "outputs": [],
   "metadata": {}
  }
 ],
 "metadata": {
  "orig_nbformat": 4,
  "language_info": {
   "name": "python",
   "version": "3.8.8",
   "mimetype": "text/x-python",
   "codemirror_mode": {
    "name": "ipython",
    "version": 3
   },
   "pygments_lexer": "ipython3",
   "nbconvert_exporter": "python",
   "file_extension": ".py"
  },
  "kernelspec": {
   "name": "python3",
   "display_name": "Python 3.8.8 64-bit ('base': conda)"
  },
  "interpreter": {
   "hash": "7127acf375670f7564359a6fcd607b9a8a4ae59003bbf7f29402ecd3cb366bfb"
  }
 },
 "nbformat": 4,
 "nbformat_minor": 2
}